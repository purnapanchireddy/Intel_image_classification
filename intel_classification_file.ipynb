{
  "cells": [
    {
      "cell_type": "markdown",
      "source": [
        "**Mount the file from Google Drive**"
      ],
      "metadata": {
        "id": "5yUv9xFBSAzs"
      }
    },
    {
      "cell_type": "code",
      "execution_count": 1,
      "metadata": {
        "colab": {
          "base_uri": "https://localhost:8080/"
        },
        "id": "IcKLZXrFc6rA",
        "outputId": "d7ec56f0-6dbe-42d7-e03f-2b00189730f3"
      },
      "outputs": [
        {
          "output_type": "stream",
          "name": "stdout",
          "text": [
            "Mounted at /content/drive\n"
          ]
        }
      ],
      "source": [
        "from google.colab import drive\n",
        "drive.mount(\"/content/drive\")"
      ]
    },
    {
      "cell_type": "markdown",
      "source": [
        "**Zip file path**"
      ],
      "metadata": {
        "id": "O1Estzz3SS7r"
      }
    },
    {
      "cell_type": "code",
      "execution_count": 2,
      "metadata": {
        "id": "kUF8qxaRfs_t"
      },
      "outputs": [],
      "source": [
        "filepath=\"/content/drive/MyDrive/Ml with Python/intel_images.zip\""
      ]
    },
    {
      "cell_type": "markdown",
      "source": [
        "**Extracting the Zip file**"
      ],
      "metadata": {
        "id": "4w7tHvPVSZFq"
      }
    },
    {
      "cell_type": "code",
      "execution_count": 3,
      "metadata": {
        "colab": {
          "base_uri": "https://localhost:8080/"
        },
        "id": "VPs9TNIifzEU",
        "outputId": "89b2ef94-7be8-4773-fbcd-332ebbd4dbf5"
      },
      "outputs": [
        {
          "output_type": "stream",
          "name": "stdout",
          "text": [
            "Data Extracted\n"
          ]
        }
      ],
      "source": [
        "from zipfile import ZipFile\n",
        "\n",
        "with ZipFile(filepath) as f:\n",
        "  f.extractall(\"./intel\")\n",
        "  print(\"Data Extracted\")"
      ]
    },
    {
      "cell_type": "code",
      "execution_count": 4,
      "metadata": {
        "colab": {
          "base_uri": "https://localhost:8080/"
        },
        "id": "Nexz8Rx8f92R",
        "outputId": "a3575344-db2f-4146-b03e-65b486c7aec6"
      },
      "outputs": [
        {
          "output_type": "execute_result",
          "data": {
            "text/plain": [
              "['.config', 'intel', 'drive', 'sample_data']"
            ]
          },
          "metadata": {},
          "execution_count": 4
        }
      ],
      "source": [
        "import os   \n",
        "os.listdir(\".\")"
      ]
    },
    {
      "cell_type": "markdown",
      "source": [
        "**Import the required modules**"
      ],
      "metadata": {
        "id": "nfWXxNNPeuhU"
      }
    },
    {
      "cell_type": "code",
      "execution_count": 5,
      "metadata": {
        "id": "LL8kQZIzgJkF"
      },
      "outputs": [],
      "source": [
        "import tensorflow as tf\n",
        "from tensorflow.keras import layers"
      ]
    },
    {
      "cell_type": "markdown",
      "source": [
        "**Reading the dataset from directory**"
      ],
      "metadata": {
        "id": "_ruoo8-eSkJI"
      }
    },
    {
      "cell_type": "code",
      "execution_count": 6,
      "metadata": {
        "colab": {
          "base_uri": "https://localhost:8080/"
        },
        "id": "R_SXKJc8gggg",
        "outputId": "a6911894-a91e-477d-8d72-59ea31a98643"
      },
      "outputs": [
        {
          "output_type": "stream",
          "name": "stdout",
          "text": [
            "Found 14034 files belonging to 6 classes.\n"
          ]
        }
      ],
      "source": [
        "data = tf.keras.utils.image_dataset_from_directory(\"/content/intel/seg_train/seg_train\",image_size=(32,32),color_mode=\"rgb\", batch_size = 14000)"
      ]
    },
    {
      "cell_type": "markdown",
      "source": [
        "**Find the size**"
      ],
      "metadata": {
        "id": "RtbYqL5Sfd_i"
      }
    },
    {
      "cell_type": "code",
      "execution_count": 7,
      "metadata": {
        "colab": {
          "base_uri": "https://localhost:8080/"
        },
        "id": "FBPVQZ37gNiN",
        "outputId": "b9550924-76a3-4c13-c501-07cb0ec501ea"
      },
      "outputs": [
        {
          "output_type": "stream",
          "name": "stdout",
          "text": [
            "(14000, 32, 32, 3) (14000, 6)\n"
          ]
        }
      ],
      "source": [
        "for features,labels in data:\n",
        "  labels = tf.one_hot(labels,6)\n",
        "  print(features.shape,labels.shape)\n",
        "  break"
      ]
    },
    {
      "cell_type": "markdown",
      "source": [
        "**Creating layers for a model**"
      ],
      "metadata": {
        "id": "H2ELrEmPfaN4"
      }
    },
    {
      "cell_type": "code",
      "execution_count": 8,
      "metadata": {
        "id": "DWE1K3IOhKJI"
      },
      "outputs": [],
      "source": [
        "model=tf.keras.Sequential([\n",
        "    layers.Conv2D(9,3,input_shape=(32,32,3)),\n",
        "    layers.MaxPool2D(),\n",
        "    layers.Conv2D(18,3,activation=\"leaky_relu\"),\n",
        "    layers.MaxPool2D(),\n",
        "    layers.Conv2D(36,3,activation=\"leaky_relu\"),\n",
        "    layers.MaxPool2D(),\n",
        "    layers.Flatten(),\n",
        "    layers.Dense(6),\n",
        "    layers.Activation(\"softmax\")\n",
        "])"
      ]
    },
    {
      "cell_type": "markdown",
      "source": [
        "**Summary of the model**"
      ],
      "metadata": {
        "id": "DSai1gOQfiNx"
      }
    },
    {
      "cell_type": "code",
      "execution_count": 9,
      "metadata": {
        "colab": {
          "base_uri": "https://localhost:8080/"
        },
        "id": "MyC9_lh2hRZc",
        "outputId": "775ba29f-5826-4cf1-a61b-eac9c25377d5"
      },
      "outputs": [
        {
          "output_type": "stream",
          "name": "stdout",
          "text": [
            "Model: \"sequential\"\n",
            "_________________________________________________________________\n",
            " Layer (type)                Output Shape              Param #   \n",
            "=================================================================\n",
            " conv2d (Conv2D)             (None, 30, 30, 9)         252       \n",
            "                                                                 \n",
            " max_pooling2d (MaxPooling2D  (None, 15, 15, 9)        0         \n",
            " )                                                               \n",
            "                                                                 \n",
            " conv2d_1 (Conv2D)           (None, 13, 13, 18)        1476      \n",
            "                                                                 \n",
            " max_pooling2d_1 (MaxPooling  (None, 6, 6, 18)         0         \n",
            " 2D)                                                             \n",
            "                                                                 \n",
            " conv2d_2 (Conv2D)           (None, 4, 4, 36)          5868      \n",
            "                                                                 \n",
            " max_pooling2d_2 (MaxPooling  (None, 2, 2, 36)         0         \n",
            " 2D)                                                             \n",
            "                                                                 \n",
            " flatten (Flatten)           (None, 144)               0         \n",
            "                                                                 \n",
            " dense (Dense)               (None, 6)                 870       \n",
            "                                                                 \n",
            " activation (Activation)     (None, 6)                 0         \n",
            "                                                                 \n",
            "=================================================================\n",
            "Total params: 8,466\n",
            "Trainable params: 8,466\n",
            "Non-trainable params: 0\n",
            "_________________________________________________________________\n"
          ]
        }
      ],
      "source": [
        "model.summary()"
      ]
    },
    {
      "cell_type": "markdown",
      "source": [
        "**Compiling the model**"
      ],
      "metadata": {
        "id": "KAszvUOFfrmM"
      }
    },
    {
      "cell_type": "code",
      "execution_count": 10,
      "metadata": {
        "id": "2pt7DsbjhZ-U"
      },
      "outputs": [],
      "source": [
        "model.compile(\n",
        "    loss = tf.keras.losses.categorical_crossentropy,\n",
        "    optimizer = tf.keras.optimizers.Adam(),\n",
        "    metrics = [\"accuracy\"]\n",
        ")"
      ]
    },
    {
      "cell_type": "markdown",
      "source": [
        "**Train the model**"
      ],
      "metadata": {
        "id": "p1jIZA2JfxCj"
      }
    },
    {
      "cell_type": "code",
      "execution_count": 11,
      "metadata": {
        "colab": {
          "base_uri": "https://localhost:8080/"
        },
        "id": "BCtEY9-whekK",
        "outputId": "0dbfe3b7-06fd-4f38-b967-8f8722418db5"
      },
      "outputs": [
        {
          "output_type": "stream",
          "name": "stdout",
          "text": [
            "Epoch 1/100\n",
            "200/200 [==============================] - 11s 50ms/step - loss: 1.2947 - accuracy: 0.4855\n",
            "Epoch 2/100\n",
            "200/200 [==============================] - 9s 46ms/step - loss: 1.0540 - accuracy: 0.6009\n",
            "Epoch 3/100\n",
            "200/200 [==============================] - 9s 45ms/step - loss: 0.9470 - accuracy: 0.6441\n",
            "Epoch 4/100\n",
            "200/200 [==============================] - 9s 45ms/step - loss: 0.8948 - accuracy: 0.6686\n",
            "Epoch 5/100\n",
            "200/200 [==============================] - 9s 45ms/step - loss: 0.8470 - accuracy: 0.6864\n",
            "Epoch 6/100\n",
            "200/200 [==============================] - 11s 56ms/step - loss: 0.8257 - accuracy: 0.6973\n",
            "Epoch 7/100\n",
            "200/200 [==============================] - 9s 45ms/step - loss: 0.7956 - accuracy: 0.7099\n",
            "Epoch 8/100\n",
            "200/200 [==============================] - 9s 45ms/step - loss: 0.7738 - accuracy: 0.7139\n",
            "Epoch 9/100\n",
            "200/200 [==============================] - 9s 45ms/step - loss: 0.7596 - accuracy: 0.7225\n",
            "Epoch 10/100\n",
            "200/200 [==============================] - 9s 45ms/step - loss: 0.7240 - accuracy: 0.7345\n",
            "Epoch 11/100\n",
            "200/200 [==============================] - 9s 45ms/step - loss: 0.7110 - accuracy: 0.7449\n",
            "Epoch 12/100\n",
            "200/200 [==============================] - 9s 45ms/step - loss: 0.6974 - accuracy: 0.7453\n",
            "Epoch 13/100\n",
            "200/200 [==============================] - 9s 45ms/step - loss: 0.6836 - accuracy: 0.7515\n",
            "Epoch 14/100\n",
            "200/200 [==============================] - 9s 45ms/step - loss: 0.6655 - accuracy: 0.7596\n",
            "Epoch 15/100\n",
            "200/200 [==============================] - 9s 45ms/step - loss: 0.6524 - accuracy: 0.7656\n",
            "Epoch 16/100\n",
            "200/200 [==============================] - 9s 45ms/step - loss: 0.6390 - accuracy: 0.7701\n",
            "Epoch 17/100\n",
            "200/200 [==============================] - 9s 45ms/step - loss: 0.6297 - accuracy: 0.7698\n",
            "Epoch 18/100\n",
            "200/200 [==============================] - 9s 45ms/step - loss: 0.6216 - accuracy: 0.7753\n",
            "Epoch 19/100\n",
            "200/200 [==============================] - 9s 45ms/step - loss: 0.6096 - accuracy: 0.7820\n",
            "Epoch 20/100\n",
            "200/200 [==============================] - 9s 45ms/step - loss: 0.6069 - accuracy: 0.7817\n",
            "Epoch 21/100\n",
            "200/200 [==============================] - 9s 46ms/step - loss: 0.5916 - accuracy: 0.7886\n",
            "Epoch 22/100\n",
            "200/200 [==============================] - 9s 46ms/step - loss: 0.5840 - accuracy: 0.7895\n",
            "Epoch 23/100\n",
            "200/200 [==============================] - 9s 45ms/step - loss: 0.5755 - accuracy: 0.7954\n",
            "Epoch 24/100\n",
            "200/200 [==============================] - 9s 45ms/step - loss: 0.5624 - accuracy: 0.7996\n",
            "Epoch 25/100\n",
            "200/200 [==============================] - 9s 46ms/step - loss: 0.5547 - accuracy: 0.8027\n",
            "Epoch 26/100\n",
            "200/200 [==============================] - 9s 45ms/step - loss: 0.5521 - accuracy: 0.8022\n",
            "Epoch 27/100\n",
            "200/200 [==============================] - 9s 45ms/step - loss: 0.5368 - accuracy: 0.8045\n",
            "Epoch 28/100\n",
            "200/200 [==============================] - 9s 46ms/step - loss: 0.5312 - accuracy: 0.8101\n",
            "Epoch 29/100\n",
            "200/200 [==============================] - 11s 57ms/step - loss: 0.5284 - accuracy: 0.8137\n",
            "Epoch 30/100\n",
            "200/200 [==============================] - 9s 46ms/step - loss: 0.5205 - accuracy: 0.8141\n",
            "Epoch 31/100\n",
            "200/200 [==============================] - 9s 45ms/step - loss: 0.5164 - accuracy: 0.8170\n",
            "Epoch 32/100\n",
            "200/200 [==============================] - 9s 45ms/step - loss: 0.5060 - accuracy: 0.8231\n",
            "Epoch 33/100\n",
            "200/200 [==============================] - 9s 45ms/step - loss: 0.4990 - accuracy: 0.8213\n",
            "Epoch 34/100\n",
            "200/200 [==============================] - 9s 45ms/step - loss: 0.4922 - accuracy: 0.8256\n",
            "Epoch 35/100\n",
            "200/200 [==============================] - 9s 45ms/step - loss: 0.4810 - accuracy: 0.8296\n",
            "Epoch 36/100\n",
            "200/200 [==============================] - 9s 45ms/step - loss: 0.4765 - accuracy: 0.8308\n",
            "Epoch 37/100\n",
            "200/200 [==============================] - 9s 45ms/step - loss: 0.4774 - accuracy: 0.8289\n",
            "Epoch 38/100\n",
            "200/200 [==============================] - 9s 46ms/step - loss: 0.4624 - accuracy: 0.8390\n",
            "Epoch 39/100\n",
            "200/200 [==============================] - 9s 46ms/step - loss: 0.4639 - accuracy: 0.8361\n",
            "Epoch 40/100\n",
            "200/200 [==============================] - 9s 46ms/step - loss: 0.4557 - accuracy: 0.8409\n",
            "Epoch 41/100\n",
            "200/200 [==============================] - 9s 46ms/step - loss: 0.4572 - accuracy: 0.8366\n",
            "Epoch 42/100\n",
            "200/200 [==============================] - 9s 46ms/step - loss: 0.4485 - accuracy: 0.8429\n",
            "Epoch 43/100\n",
            "200/200 [==============================] - 9s 45ms/step - loss: 0.4411 - accuracy: 0.8462\n",
            "Epoch 44/100\n",
            "200/200 [==============================] - 9s 45ms/step - loss: 0.4404 - accuracy: 0.8439\n",
            "Epoch 45/100\n",
            "200/200 [==============================] - 9s 46ms/step - loss: 0.4363 - accuracy: 0.8430\n",
            "Epoch 46/100\n",
            "200/200 [==============================] - 9s 45ms/step - loss: 0.4276 - accuracy: 0.8480\n",
            "Epoch 47/100\n",
            "200/200 [==============================] - 9s 46ms/step - loss: 0.4230 - accuracy: 0.8478\n",
            "Epoch 48/100\n",
            "200/200 [==============================] - 9s 46ms/step - loss: 0.4143 - accuracy: 0.8548\n",
            "Epoch 49/100\n",
            "200/200 [==============================] - 9s 46ms/step - loss: 0.4108 - accuracy: 0.8541\n",
            "Epoch 50/100\n",
            "200/200 [==============================] - 9s 46ms/step - loss: 0.4093 - accuracy: 0.8559\n",
            "Epoch 51/100\n",
            "200/200 [==============================] - 9s 46ms/step - loss: 0.3998 - accuracy: 0.8596\n",
            "Epoch 52/100\n",
            "200/200 [==============================] - 12s 60ms/step - loss: 0.3950 - accuracy: 0.8600\n",
            "Epoch 53/100\n",
            "200/200 [==============================] - 11s 53ms/step - loss: 0.3876 - accuracy: 0.8629\n",
            "Epoch 54/100\n",
            "200/200 [==============================] - 9s 46ms/step - loss: 0.3881 - accuracy: 0.8589\n",
            "Epoch 55/100\n",
            "200/200 [==============================] - 9s 46ms/step - loss: 0.3851 - accuracy: 0.8613\n",
            "Epoch 56/100\n",
            "200/200 [==============================] - 9s 45ms/step - loss: 0.3766 - accuracy: 0.8656\n",
            "Epoch 57/100\n",
            "200/200 [==============================] - 9s 46ms/step - loss: 0.3789 - accuracy: 0.8634\n",
            "Epoch 58/100\n",
            "200/200 [==============================] - 9s 45ms/step - loss: 0.3684 - accuracy: 0.8693\n",
            "Epoch 59/100\n",
            "200/200 [==============================] - 9s 45ms/step - loss: 0.3623 - accuracy: 0.8714\n",
            "Epoch 60/100\n",
            "200/200 [==============================] - 9s 46ms/step - loss: 0.3658 - accuracy: 0.8704\n",
            "Epoch 61/100\n",
            "200/200 [==============================] - 9s 46ms/step - loss: 0.3518 - accuracy: 0.8741\n",
            "Epoch 62/100\n",
            "200/200 [==============================] - 9s 46ms/step - loss: 0.3503 - accuracy: 0.8770\n",
            "Epoch 63/100\n",
            "200/200 [==============================] - 9s 45ms/step - loss: 0.3459 - accuracy: 0.8793\n",
            "Epoch 64/100\n",
            "200/200 [==============================] - 9s 46ms/step - loss: 0.3406 - accuracy: 0.8787\n",
            "Epoch 65/100\n",
            "200/200 [==============================] - 9s 45ms/step - loss: 0.3348 - accuracy: 0.8818\n",
            "Epoch 66/100\n",
            "200/200 [==============================] - 9s 46ms/step - loss: 0.3359 - accuracy: 0.8801\n",
            "Epoch 67/100\n",
            "200/200 [==============================] - 9s 46ms/step - loss: 0.3297 - accuracy: 0.8834\n",
            "Epoch 68/100\n",
            "200/200 [==============================] - 9s 46ms/step - loss: 0.3298 - accuracy: 0.8832\n",
            "Epoch 69/100\n",
            "200/200 [==============================] - 9s 46ms/step - loss: 0.3282 - accuracy: 0.8831\n",
            "Epoch 70/100\n",
            "200/200 [==============================] - 9s 46ms/step - loss: 0.3214 - accuracy: 0.8883\n",
            "Epoch 71/100\n",
            "200/200 [==============================] - 9s 46ms/step - loss: 0.3231 - accuracy: 0.8848\n",
            "Epoch 72/100\n",
            "200/200 [==============================] - 9s 46ms/step - loss: 0.3105 - accuracy: 0.8892\n",
            "Epoch 73/100\n",
            "200/200 [==============================] - 9s 47ms/step - loss: 0.3096 - accuracy: 0.8914\n",
            "Epoch 74/100\n",
            "200/200 [==============================] - 9s 46ms/step - loss: 0.3166 - accuracy: 0.8863\n",
            "Epoch 75/100\n",
            "200/200 [==============================] - 12s 58ms/step - loss: 0.3029 - accuracy: 0.8906\n",
            "Epoch 76/100\n",
            "200/200 [==============================] - 9s 46ms/step - loss: 0.3052 - accuracy: 0.8924\n",
            "Epoch 77/100\n",
            "200/200 [==============================] - 9s 45ms/step - loss: 0.2954 - accuracy: 0.8952\n",
            "Epoch 78/100\n",
            "200/200 [==============================] - 9s 46ms/step - loss: 0.2841 - accuracy: 0.9036\n",
            "Epoch 79/100\n",
            "200/200 [==============================] - 9s 46ms/step - loss: 0.2891 - accuracy: 0.8986\n",
            "Epoch 80/100\n",
            "200/200 [==============================] - 9s 46ms/step - loss: 0.2832 - accuracy: 0.9009\n",
            "Epoch 81/100\n",
            "200/200 [==============================] - 9s 46ms/step - loss: 0.2805 - accuracy: 0.9017\n",
            "Epoch 82/100\n",
            "200/200 [==============================] - 9s 46ms/step - loss: 0.2779 - accuracy: 0.9012\n",
            "Epoch 83/100\n",
            "200/200 [==============================] - 9s 46ms/step - loss: 0.2739 - accuracy: 0.9029\n",
            "Epoch 84/100\n",
            "200/200 [==============================] - 9s 46ms/step - loss: 0.2742 - accuracy: 0.9034\n",
            "Epoch 85/100\n",
            "200/200 [==============================] - 9s 46ms/step - loss: 0.2746 - accuracy: 0.9021\n",
            "Epoch 86/100\n",
            "200/200 [==============================] - 9s 46ms/step - loss: 0.2686 - accuracy: 0.9039\n",
            "Epoch 87/100\n",
            "200/200 [==============================] - 9s 46ms/step - loss: 0.2738 - accuracy: 0.9031\n",
            "Epoch 88/100\n",
            "200/200 [==============================] - 9s 46ms/step - loss: 0.2650 - accuracy: 0.9056\n",
            "Epoch 89/100\n",
            "200/200 [==============================] - 9s 45ms/step - loss: 0.2604 - accuracy: 0.9064\n",
            "Epoch 90/100\n",
            "200/200 [==============================] - 9s 46ms/step - loss: 0.2539 - accuracy: 0.9113\n",
            "Epoch 91/100\n",
            "200/200 [==============================] - 16s 81ms/step - loss: 0.2506 - accuracy: 0.9124\n",
            "Epoch 92/100\n",
            "200/200 [==============================] - 12s 61ms/step - loss: 0.2497 - accuracy: 0.9116\n",
            "Epoch 93/100\n",
            "200/200 [==============================] - 9s 46ms/step - loss: 0.2501 - accuracy: 0.9131\n",
            "Epoch 94/100\n",
            "200/200 [==============================] - 9s 46ms/step - loss: 0.2485 - accuracy: 0.9141\n",
            "Epoch 95/100\n",
            "200/200 [==============================] - 9s 46ms/step - loss: 0.2377 - accuracy: 0.9166\n",
            "Epoch 96/100\n",
            "200/200 [==============================] - 10s 51ms/step - loss: 0.2346 - accuracy: 0.9196\n",
            "Epoch 97/100\n",
            "200/200 [==============================] - 10s 52ms/step - loss: 0.2329 - accuracy: 0.9179\n",
            "Epoch 98/100\n",
            "200/200 [==============================] - 9s 46ms/step - loss: 0.2404 - accuracy: 0.9186\n",
            "Epoch 99/100\n",
            "200/200 [==============================] - 9s 46ms/step - loss: 0.2316 - accuracy: 0.9200\n",
            "Epoch 100/100\n",
            "200/200 [==============================] - 9s 46ms/step - loss: 0.2304 - accuracy: 0.9192\n",
            "Epoch 1/100\n",
            "1/1 [==============================] - 0s 299ms/step - loss: 1.4975 - accuracy: 0.6471\n",
            "Epoch 2/100\n",
            "1/1 [==============================] - 0s 31ms/step - loss: 1.1914 - accuracy: 0.7059\n",
            "Epoch 3/100\n",
            "1/1 [==============================] - 0s 31ms/step - loss: 0.8409 - accuracy: 0.7059\n",
            "Epoch 4/100\n",
            "1/1 [==============================] - 0s 29ms/step - loss: 0.6591 - accuracy: 0.8235\n",
            "Epoch 5/100\n",
            "1/1 [==============================] - 0s 34ms/step - loss: 0.5163 - accuracy: 0.8235\n",
            "Epoch 6/100\n",
            "1/1 [==============================] - 0s 32ms/step - loss: 0.3795 - accuracy: 0.7941\n",
            "Epoch 7/100\n",
            "1/1 [==============================] - 0s 33ms/step - loss: 0.2953 - accuracy: 0.9118\n",
            "Epoch 8/100\n",
            "1/1 [==============================] - 0s 40ms/step - loss: 0.2220 - accuracy: 0.8824\n",
            "Epoch 9/100\n",
            "1/1 [==============================] - 0s 46ms/step - loss: 0.1437 - accuracy: 0.9706\n",
            "Epoch 10/100\n",
            "1/1 [==============================] - 0s 35ms/step - loss: 0.1021 - accuracy: 1.0000\n",
            "Epoch 11/100\n",
            "1/1 [==============================] - 0s 35ms/step - loss: 0.0958 - accuracy: 1.0000\n",
            "Epoch 12/100\n",
            "1/1 [==============================] - 0s 32ms/step - loss: 0.0915 - accuracy: 0.9706\n",
            "Epoch 13/100\n",
            "1/1 [==============================] - 0s 33ms/step - loss: 0.0727 - accuracy: 0.9706\n",
            "Epoch 14/100\n",
            "1/1 [==============================] - 0s 33ms/step - loss: 0.0521 - accuracy: 1.0000\n",
            "Epoch 15/100\n",
            "1/1 [==============================] - 0s 35ms/step - loss: 0.0409 - accuracy: 1.0000\n",
            "Epoch 16/100\n",
            "1/1 [==============================] - 0s 35ms/step - loss: 0.0381 - accuracy: 1.0000\n",
            "Epoch 17/100\n",
            "1/1 [==============================] - 0s 32ms/step - loss: 0.0369 - accuracy: 1.0000\n",
            "Epoch 18/100\n",
            "1/1 [==============================] - 0s 34ms/step - loss: 0.0338 - accuracy: 1.0000\n",
            "Epoch 19/100\n",
            "1/1 [==============================] - 0s 39ms/step - loss: 0.0283 - accuracy: 1.0000\n",
            "Epoch 20/100\n",
            "1/1 [==============================] - 0s 32ms/step - loss: 0.0219 - accuracy: 1.0000\n",
            "Epoch 21/100\n",
            "1/1 [==============================] - 0s 32ms/step - loss: 0.0164 - accuracy: 1.0000\n",
            "Epoch 22/100\n",
            "1/1 [==============================] - 0s 38ms/step - loss: 0.0126 - accuracy: 1.0000\n",
            "Epoch 23/100\n",
            "1/1 [==============================] - 0s 35ms/step - loss: 0.0104 - accuracy: 1.0000\n",
            "Epoch 24/100\n",
            "1/1 [==============================] - 0s 32ms/step - loss: 0.0092 - accuracy: 1.0000\n",
            "Epoch 25/100\n",
            "1/1 [==============================] - 0s 34ms/step - loss: 0.0086 - accuracy: 1.0000\n",
            "Epoch 26/100\n",
            "1/1 [==============================] - 0s 29ms/step - loss: 0.0083 - accuracy: 1.0000\n",
            "Epoch 27/100\n",
            "1/1 [==============================] - 0s 36ms/step - loss: 0.0080 - accuracy: 1.0000\n",
            "Epoch 28/100\n",
            "1/1 [==============================] - 0s 34ms/step - loss: 0.0077 - accuracy: 1.0000\n",
            "Epoch 29/100\n",
            "1/1 [==============================] - 0s 32ms/step - loss: 0.0073 - accuracy: 1.0000\n",
            "Epoch 30/100\n",
            "1/1 [==============================] - 0s 32ms/step - loss: 0.0067 - accuracy: 1.0000\n",
            "Epoch 31/100\n",
            "1/1 [==============================] - 0s 36ms/step - loss: 0.0062 - accuracy: 1.0000\n",
            "Epoch 32/100\n",
            "1/1 [==============================] - 0s 30ms/step - loss: 0.0056 - accuracy: 1.0000\n",
            "Epoch 33/100\n",
            "1/1 [==============================] - 0s 34ms/step - loss: 0.0050 - accuracy: 1.0000\n",
            "Epoch 34/100\n",
            "1/1 [==============================] - 0s 34ms/step - loss: 0.0046 - accuracy: 1.0000\n",
            "Epoch 35/100\n",
            "1/1 [==============================] - 0s 40ms/step - loss: 0.0042 - accuracy: 1.0000\n",
            "Epoch 36/100\n",
            "1/1 [==============================] - 0s 35ms/step - loss: 0.0038 - accuracy: 1.0000\n",
            "Epoch 37/100\n",
            "1/1 [==============================] - 0s 36ms/step - loss: 0.0035 - accuracy: 1.0000\n",
            "Epoch 38/100\n",
            "1/1 [==============================] - 0s 34ms/step - loss: 0.0033 - accuracy: 1.0000\n",
            "Epoch 39/100\n",
            "1/1 [==============================] - 0s 29ms/step - loss: 0.0031 - accuracy: 1.0000\n",
            "Epoch 40/100\n",
            "1/1 [==============================] - 0s 34ms/step - loss: 0.0029 - accuracy: 1.0000\n",
            "Epoch 41/100\n",
            "1/1 [==============================] - 0s 32ms/step - loss: 0.0028 - accuracy: 1.0000\n",
            "Epoch 42/100\n",
            "1/1 [==============================] - 0s 32ms/step - loss: 0.0027 - accuracy: 1.0000\n",
            "Epoch 43/100\n",
            "1/1 [==============================] - 0s 31ms/step - loss: 0.0026 - accuracy: 1.0000\n",
            "Epoch 44/100\n",
            "1/1 [==============================] - 0s 30ms/step - loss: 0.0025 - accuracy: 1.0000\n",
            "Epoch 45/100\n",
            "1/1 [==============================] - 0s 34ms/step - loss: 0.0024 - accuracy: 1.0000\n",
            "Epoch 46/100\n",
            "1/1 [==============================] - 0s 32ms/step - loss: 0.0023 - accuracy: 1.0000\n",
            "Epoch 47/100\n",
            "1/1 [==============================] - 0s 33ms/step - loss: 0.0023 - accuracy: 1.0000\n",
            "Epoch 48/100\n",
            "1/1 [==============================] - 0s 50ms/step - loss: 0.0022 - accuracy: 1.0000\n",
            "Epoch 49/100\n",
            "1/1 [==============================] - 0s 33ms/step - loss: 0.0022 - accuracy: 1.0000\n",
            "Epoch 50/100\n",
            "1/1 [==============================] - 0s 35ms/step - loss: 0.0021 - accuracy: 1.0000\n",
            "Epoch 51/100\n",
            "1/1 [==============================] - 0s 37ms/step - loss: 0.0021 - accuracy: 1.0000\n",
            "Epoch 52/100\n",
            "1/1 [==============================] - 0s 31ms/step - loss: 0.0020 - accuracy: 1.0000\n",
            "Epoch 53/100\n",
            "1/1 [==============================] - 0s 35ms/step - loss: 0.0020 - accuracy: 1.0000\n",
            "Epoch 54/100\n",
            "1/1 [==============================] - 0s 32ms/step - loss: 0.0020 - accuracy: 1.0000\n",
            "Epoch 55/100\n",
            "1/1 [==============================] - 0s 32ms/step - loss: 0.0019 - accuracy: 1.0000\n",
            "Epoch 56/100\n",
            "1/1 [==============================] - 0s 30ms/step - loss: 0.0019 - accuracy: 1.0000\n",
            "Epoch 57/100\n",
            "1/1 [==============================] - 0s 32ms/step - loss: 0.0019 - accuracy: 1.0000\n",
            "Epoch 58/100\n",
            "1/1 [==============================] - 0s 38ms/step - loss: 0.0018 - accuracy: 1.0000\n",
            "Epoch 59/100\n",
            "1/1 [==============================] - 0s 33ms/step - loss: 0.0018 - accuracy: 1.0000\n",
            "Epoch 60/100\n",
            "1/1 [==============================] - 0s 33ms/step - loss: 0.0018 - accuracy: 1.0000\n",
            "Epoch 61/100\n",
            "1/1 [==============================] - 0s 41ms/step - loss: 0.0018 - accuracy: 1.0000\n",
            "Epoch 62/100\n",
            "1/1 [==============================] - 0s 34ms/step - loss: 0.0017 - accuracy: 1.0000\n",
            "Epoch 63/100\n",
            "1/1 [==============================] - 0s 38ms/step - loss: 0.0017 - accuracy: 1.0000\n",
            "Epoch 64/100\n",
            "1/1 [==============================] - 0s 34ms/step - loss: 0.0017 - accuracy: 1.0000\n",
            "Epoch 65/100\n",
            "1/1 [==============================] - 0s 34ms/step - loss: 0.0017 - accuracy: 1.0000\n",
            "Epoch 66/100\n",
            "1/1 [==============================] - 0s 33ms/step - loss: 0.0016 - accuracy: 1.0000\n",
            "Epoch 67/100\n",
            "1/1 [==============================] - 0s 38ms/step - loss: 0.0016 - accuracy: 1.0000\n",
            "Epoch 68/100\n",
            "1/1 [==============================] - 0s 31ms/step - loss: 0.0016 - accuracy: 1.0000\n",
            "Epoch 69/100\n",
            "1/1 [==============================] - 0s 33ms/step - loss: 0.0016 - accuracy: 1.0000\n",
            "Epoch 70/100\n",
            "1/1 [==============================] - 0s 30ms/step - loss: 0.0016 - accuracy: 1.0000\n",
            "Epoch 71/100\n",
            "1/1 [==============================] - 0s 29ms/step - loss: 0.0016 - accuracy: 1.0000\n",
            "Epoch 72/100\n",
            "1/1 [==============================] - 0s 38ms/step - loss: 0.0015 - accuracy: 1.0000\n",
            "Epoch 73/100\n",
            "1/1 [==============================] - 0s 33ms/step - loss: 0.0015 - accuracy: 1.0000\n",
            "Epoch 74/100\n",
            "1/1 [==============================] - 0s 37ms/step - loss: 0.0015 - accuracy: 1.0000\n",
            "Epoch 75/100\n",
            "1/1 [==============================] - 0s 34ms/step - loss: 0.0015 - accuracy: 1.0000\n",
            "Epoch 76/100\n",
            "1/1 [==============================] - 0s 33ms/step - loss: 0.0015 - accuracy: 1.0000\n",
            "Epoch 77/100\n",
            "1/1 [==============================] - 0s 32ms/step - loss: 0.0015 - accuracy: 1.0000\n",
            "Epoch 78/100\n",
            "1/1 [==============================] - 0s 40ms/step - loss: 0.0014 - accuracy: 1.0000\n",
            "Epoch 79/100\n",
            "1/1 [==============================] - 0s 34ms/step - loss: 0.0014 - accuracy: 1.0000\n",
            "Epoch 80/100\n",
            "1/1 [==============================] - 0s 34ms/step - loss: 0.0014 - accuracy: 1.0000\n",
            "Epoch 81/100\n",
            "1/1 [==============================] - 0s 33ms/step - loss: 0.0014 - accuracy: 1.0000\n",
            "Epoch 82/100\n",
            "1/1 [==============================] - 0s 36ms/step - loss: 0.0014 - accuracy: 1.0000\n",
            "Epoch 83/100\n",
            "1/1 [==============================] - 0s 39ms/step - loss: 0.0014 - accuracy: 1.0000\n",
            "Epoch 84/100\n",
            "1/1 [==============================] - 0s 32ms/step - loss: 0.0014 - accuracy: 1.0000\n",
            "Epoch 85/100\n",
            "1/1 [==============================] - 0s 32ms/step - loss: 0.0014 - accuracy: 1.0000\n",
            "Epoch 86/100\n",
            "1/1 [==============================] - 0s 46ms/step - loss: 0.0014 - accuracy: 1.0000\n",
            "Epoch 87/100\n",
            "1/1 [==============================] - 0s 39ms/step - loss: 0.0013 - accuracy: 1.0000\n",
            "Epoch 88/100\n",
            "1/1 [==============================] - 0s 36ms/step - loss: 0.0013 - accuracy: 1.0000\n",
            "Epoch 89/100\n",
            "1/1 [==============================] - 0s 31ms/step - loss: 0.0013 - accuracy: 1.0000\n",
            "Epoch 90/100\n",
            "1/1 [==============================] - 0s 32ms/step - loss: 0.0013 - accuracy: 1.0000\n",
            "Epoch 91/100\n",
            "1/1 [==============================] - 0s 35ms/step - loss: 0.0013 - accuracy: 1.0000\n",
            "Epoch 92/100\n",
            "1/1 [==============================] - 0s 31ms/step - loss: 0.0013 - accuracy: 1.0000\n",
            "Epoch 93/100\n",
            "1/1 [==============================] - 0s 40ms/step - loss: 0.0013 - accuracy: 1.0000\n",
            "Epoch 94/100\n",
            "1/1 [==============================] - 0s 33ms/step - loss: 0.0013 - accuracy: 1.0000\n",
            "Epoch 95/100\n",
            "1/1 [==============================] - 0s 35ms/step - loss: 0.0013 - accuracy: 1.0000\n",
            "Epoch 96/100\n",
            "1/1 [==============================] - 0s 38ms/step - loss: 0.0013 - accuracy: 1.0000\n",
            "Epoch 97/100\n",
            "1/1 [==============================] - 0s 31ms/step - loss: 0.0013 - accuracy: 1.0000\n",
            "Epoch 98/100\n",
            "1/1 [==============================] - 0s 36ms/step - loss: 0.0012 - accuracy: 1.0000\n",
            "Epoch 99/100\n",
            "1/1 [==============================] - 0s 32ms/step - loss: 0.0012 - accuracy: 1.0000\n",
            "Epoch 100/100\n",
            "1/1 [==============================] - 0s 32ms/step - loss: 0.0012 - accuracy: 1.0000\n"
          ]
        }
      ],
      "source": [
        "for features,labels in data:\n",
        "  features = tf.divide(features,255)\n",
        "  labels = tf.one_hot(labels,6)\n",
        "  record = model.fit(\n",
        "               features,\n",
        "               labels,\n",
        "               batch_size=70,\n",
        "               epochs=100\n",
        "               )"
      ]
    },
    {
      "cell_type": "markdown",
      "source": [
        "**Save the model**"
      ],
      "metadata": {
        "id": "n6-Bhfigf4Hl"
      }
    },
    {
      "cell_type": "code",
      "source": [
        "model.save(\"/content/drive/MyDrive/Ml with Python/intel.h5\")"
      ],
      "metadata": {
        "id": "IAa6ecv1KsQR"
      },
      "execution_count": 17,
      "outputs": []
    }
  ],
  "metadata": {
    "colab": {
      "provenance": []
    },
    "kernelspec": {
      "display_name": "Python 3",
      "name": "python3"
    },
    "language_info": {
      "name": "python"
    }
  },
  "nbformat": 4,
  "nbformat_minor": 0
}