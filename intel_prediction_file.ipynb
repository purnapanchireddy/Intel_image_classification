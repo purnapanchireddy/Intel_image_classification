{
  "nbformat": 4,
  "nbformat_minor": 0,
  "metadata": {
    "colab": {
      "provenance": []
    },
    "kernelspec": {
      "name": "python3",
      "display_name": "Python 3"
    },
    "language_info": {
      "name": "python"
    }
  },
  "cells": [
    {
      "cell_type": "markdown",
      "source": [
        "**Zip file path**"
      ],
      "metadata": {
        "id": "hU4ta6WcS8Jr"
      }
    },
    {
      "cell_type": "code",
      "source": [
        "path = \"/content/drive/MyDrive/Ml with Python/intel_images.zip\""
      ],
      "metadata": {
        "id": "F2tx8oTgTLHw"
      },
      "execution_count": 37,
      "outputs": []
    },
    {
      "cell_type": "markdown",
      "source": [
        "**Extracting the zip file**"
      ],
      "metadata": {
        "id": "1jfVCakxTI_w"
      }
    },
    {
      "cell_type": "code",
      "execution_count": 38,
      "metadata": {
        "colab": {
          "base_uri": "https://localhost:8080/"
        },
        "id": "ggTDF-hkLSSV",
        "outputId": "9de89efa-55f6-40ee-f6cb-282c35bf31e5"
      },
      "outputs": [
        {
          "output_type": "stream",
          "name": "stdout",
          "text": [
            "Data extracted\n"
          ]
        }
      ],
      "source": [
        "from zipfile import ZipFile\n",
        "\n",
        "with ZipFile(path) as f:\n",
        "  f.extractall(\"./data\")\n",
        "  print(\"Data extracted\")\n",
        "     "
      ]
    },
    {
      "cell_type": "markdown",
      "source": [
        "**Importing the required modules**"
      ],
      "metadata": {
        "id": "ZES7x6IzTTHr"
      }
    },
    {
      "cell_type": "code",
      "source": [
        "import tensorflow as tf\n",
        "from tensorflow.keras import layers\n",
        "from PIL import Image\n",
        "import numpy as np"
      ],
      "metadata": {
        "id": "SxeDESHEMTsp"
      },
      "execution_count": null,
      "outputs": []
    },
    {
      "cell_type": "markdown",
      "source": [
        "**Loading the saved model and taking the classes and also summary of the model**"
      ],
      "metadata": {
        "id": "mzfPo66dTXK4"
      }
    },
    {
      "cell_type": "code",
      "source": [
        "model = tf.keras.models.load_model(\"/content/drive/MyDrive/Ml with Python/intel.h5\")\n",
        "classes = [\n",
        "    \"buildings\",\n",
        "    \"forest\",\n",
        "    \"glacier\",\n",
        "    \"mountain\",\n",
        "    \"sea\",\n",
        "    \"street\"\n",
        "]\n",
        "model.summary()"
      ],
      "metadata": {
        "colab": {
          "base_uri": "https://localhost:8080/"
        },
        "id": "ROVeF5cGMaxk",
        "outputId": "c4bbb7c7-3c30-4716-a189-e347fa883759"
      },
      "execution_count": null,
      "outputs": [
        {
          "output_type": "stream",
          "name": "stdout",
          "text": [
            "Model: \"sequential\"\n",
            "_________________________________________________________________\n",
            " Layer (type)                Output Shape              Param #   \n",
            "=================================================================\n",
            " conv2d (Conv2D)             (None, 30, 30, 9)         252       \n",
            "                                                                 \n",
            " max_pooling2d (MaxPooling2D  (None, 15, 15, 9)        0         \n",
            " )                                                               \n",
            "                                                                 \n",
            " conv2d_1 (Conv2D)           (None, 13, 13, 18)        1476      \n",
            "                                                                 \n",
            " max_pooling2d_1 (MaxPooling  (None, 6, 6, 18)         0         \n",
            " 2D)                                                             \n",
            "                                                                 \n",
            " conv2d_2 (Conv2D)           (None, 4, 4, 36)          5868      \n",
            "                                                                 \n",
            " max_pooling2d_2 (MaxPooling  (None, 2, 2, 36)         0         \n",
            " 2D)                                                             \n",
            "                                                                 \n",
            " flatten (Flatten)           (None, 144)               0         \n",
            "                                                                 \n",
            " dense (Dense)               (None, 6)                 870       \n",
            "                                                                 \n",
            " activation (Activation)     (None, 6)                 0         \n",
            "                                                                 \n",
            "=================================================================\n",
            "Total params: 8,466\n",
            "Trainable params: 8,466\n",
            "Non-trainable params: 0\n",
            "_________________________________________________________________\n"
          ]
        }
      ]
    },
    {
      "cell_type": "markdown",
      "source": [
        "**Write a function for prediction of model**"
      ],
      "metadata": {
        "id": "FMGrkVBvTz9a"
      }
    },
    {
      "cell_type": "code",
      "source": [
        "def pred(prediction):\n",
        "  image = Image.open(prediction)\n",
        "  image = image.resize((32,32))\n",
        "  test = tf.reshape(tf.constant(np.array(image)/255), (-1,32,32,3))\n",
        "  preds = model.predict(test, verbose=False)[0]*100\n",
        "  preds = tf.math.round(preds)\n",
        "  confidence = tf.reduce_max(preds)\n",
        "  index = int(tf.where(preds == confidence)[0][0])\n",
        "  pred = classes[index]\n",
        "  return \"The type of intel is \"+pred.title() +\" and it's confidence is \", int(confidence), \"%\""
      ],
      "metadata": {
        "id": "MR2cVj9qNmU9"
      },
      "execution_count": 49,
      "outputs": []
    },
    {
      "cell_type": "markdown",
      "source": [
        "**Prediction of Forest**"
      ],
      "metadata": {
        "id": "ng1Igw83UWNW"
      }
    },
    {
      "cell_type": "code",
      "source": [
        "img = Image.open(\"/content/drive/MyDrive/Ml with Python/Forest1.jpg\")\n",
        "img = img.resize((32,32))\n",
        "img"
      ],
      "metadata": {
        "colab": {
          "base_uri": "https://localhost:8080/",
          "height": 49
        },
        "id": "pm3dwAIoUmwP",
        "outputId": "1639c55d-4185-41aa-a890-77d240ff9a25"
      },
      "execution_count": 39,
      "outputs": [
        {
          "output_type": "execute_result",
          "data": {
            "text/plain": [
              "<PIL.Image.Image image mode=RGB size=32x32 at 0x7F23C3815B80>"
            ],
            "image/png": "[encoded data removed]"
          },
          "metadata": {},
          "execution_count": 39
        }
      ]
    },
    {
      "cell_type": "code",
      "source": [
        "pred(\"/content/drive/MyDrive/Ml with Python/Forest1.jpg\")"
      ],
      "metadata": {
        "colab": {
          "base_uri": "https://localhost:8080/"
        },
        "id": "kicbjzPeNvCP",
        "outputId": "94bc6f75-dfff-436b-f922-6fe533af1c77"
      },
      "execution_count": 50,
      "outputs": [
        {
          "output_type": "execute_result",
          "data": {
            "text/plain": [
              "(\"The type of intel is Forest and it's confidence is \", 100, '%')"
            ]
          },
          "metadata": {},
          "execution_count": 50
        }
      ]
    },
    {
      "cell_type": "markdown",
      "source": [
        "**Prediction of Glacier**"
      ],
      "metadata": {
        "id": "da2CmkWzVKjH"
      }
    },
    {
      "cell_type": "code",
      "source": [
        "img = Image.open(\"/content/drive/MyDrive/Ml with Python/Mountain1.jpg\")\n",
        "img = img.resize((32,32))\n",
        "img"
      ],
      "metadata": {
        "colab": {
          "base_uri": "https://localhost:8080/",
          "height": 49
        },
        "id": "R5xVJhRYdNz8",
        "outputId": "3e44194f-4aa7-4c70-d7f7-4950a4f9c552"
      },
      "execution_count": 40,
      "outputs": [
        {
          "output_type": "execute_result",
          "data": {
            "text/plain": [
              "<PIL.Image.Image image mode=RGB size=32x32 at 0x7F23C4919220>"
            ],
            "image/png": "[encoded data removed]"
          },
          "metadata": {},
          "execution_count": 40
        }
      ]
    },
    {
      "cell_type": "code",
      "source": [
        "pred(\"/content/drive/MyDrive/Ml with Python/Mountain1.jpg\")"
      ],
      "metadata": {
        "colab": {
          "base_uri": "https://localhost:8080/"
        },
        "id": "MnPl0uCFOL9g",
        "outputId": "647df63f-4671-4a3c-e117-cb61e0d3a356"
      },
      "execution_count": null,
      "outputs": [
        {
          "output_type": "execute_result",
          "data": {
            "text/plain": [
              "(\"The type of intel is Glacier and it's confidence is \", 80, '%')"
            ]
          },
          "metadata": {},
          "execution_count": 36
        }
      ]
    },
    {
      "cell_type": "markdown",
      "source": [
        "**Prediction of Mountain**"
      ],
      "metadata": {
        "id": "XrO0iAytdbFM"
      }
    },
    {
      "cell_type": "code",
      "source": [
        "img = Image.open(\"/content/drive/MyDrive/Ml with Python/Mountain2.jpg\")\n",
        "img = img.resize((32,32))\n",
        "img"
      ],
      "metadata": {
        "colab": {
          "base_uri": "https://localhost:8080/",
          "height": 49
        },
        "id": "OI8VrWRjdqGa",
        "outputId": "d41c0703-fa23-4a8d-c350-13267e52942c"
      },
      "execution_count": 41,
      "outputs": [
        {
          "output_type": "execute_result",
          "data": {
            "text/plain": [
              "<PIL.Image.Image image mode=RGB size=32x32 at 0x7F23C3094DF0>"
            ],
            "image/png": "[encoded data removed]"
          },
          "metadata": {},
          "execution_count": 41
        }
      ]
    },
    {
      "cell_type": "code",
      "source": [
        "pred(\"/content/drive/MyDrive/Ml with Python/Mountain2.jpg\")"
      ],
      "metadata": {
        "colab": {
          "base_uri": "https://localhost:8080/"
        },
        "id": "JvYkOg7pPmpy",
        "outputId": "87d1f271-3bea-4618-e183-1d4ff7cdc933"
      },
      "execution_count": 42,
      "outputs": [
        {
          "output_type": "execute_result",
          "data": {
            "text/plain": [
              "(\"The type of intel is Mountain and it's confidence is \", 100, '%')"
            ]
          },
          "metadata": {},
          "execution_count": 42
        }
      ]
    },
    {
      "cell_type": "markdown",
      "source": [
        "**Prediction of Sea**"
      ],
      "metadata": {
        "id": "LGhJ8rh3d0Sy"
      }
    },
    {
      "cell_type": "code",
      "source": [
        "img = Image.open(\"/content/drive/MyDrive/Ml with Python/See1.jpg\")\n",
        "img = img.resize((32,32))\n",
        "img"
      ],
      "metadata": {
        "colab": {
          "base_uri": "https://localhost:8080/",
          "height": 49
        },
        "id": "y_1omBH6d4rp",
        "outputId": "22700b13-fe18-4c07-b4ec-95c506cda5f8"
      },
      "execution_count": 43,
      "outputs": [
        {
          "output_type": "execute_result",
          "data": {
            "text/plain": [
              "<PIL.Image.Image image mode=RGB size=32x32 at 0x7F23C37D8DF0>"
            ],
            "image/png": "[encoded data removed]"
          },
          "metadata": {},
          "execution_count": 43
        }
      ]
    },
    {
      "cell_type": "code",
      "source": [
        "pred(\"/content/drive/MyDrive/Ml with Python/See1.jpg\")"
      ],
      "metadata": {
        "colab": {
          "base_uri": "https://localhost:8080/"
        },
        "id": "4pmXfh_yPqpW",
        "outputId": "5c011cb2-7c35-4d66-b2ea-f07b6a2ebc78"
      },
      "execution_count": 44,
      "outputs": [
        {
          "output_type": "execute_result",
          "data": {
            "text/plain": [
              "(\"The type of intel is Sea and it's confidence is \", 100, '%')"
            ]
          },
          "metadata": {},
          "execution_count": 44
        }
      ]
    }
  ]
}